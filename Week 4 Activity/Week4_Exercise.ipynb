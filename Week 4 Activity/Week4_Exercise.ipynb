{
 "cells": [
  {
   "cell_type": "code",
   "execution_count": 2,
   "id": "8af4b8f6",
   "metadata": {},
   "outputs": [],
   "source": [
    "import os\n",
    "os.chdir(\"C:\\\\Users\\\\user\\\\AppData\\\\Local\\\\Programs\\\\Python\\\\Python310\\\\Scripts\\\\image_processing_UCCC2513\")"
   ]
  },
  {
   "cell_type": "markdown",
   "id": "65d05ac7",
   "metadata": {},
   "source": [
    "# Set Up"
   ]
  },
  {
   "cell_type": "code",
   "execution_count": 3,
   "id": "d1cb6952",
   "metadata": {},
   "outputs": [
    {
     "data": {
      "text/plain": [
       "True"
      ]
     },
     "execution_count": 3,
     "metadata": {},
     "output_type": "execute_result"
    }
   ],
   "source": [
    "import sys\n",
    "# Python 3.7 is required\n",
    "assert sys.version_info >= (3,7)\n",
    "\n",
    "import cv2 as cv\n",
    "import numpy as np\n",
    "import random\n",
    "\n",
    "# For reproducibility,\n",
    "np.random.seed(99)\n",
    "\n",
    "# Make sure that optimization is enabled\n",
    "if not cv.useOptimized():\n",
    "    cv.setUseOptimized(True)\n",
    "\n",
    "cv.useOptimized()"
   ]
  },
  {
   "cell_type": "markdown",
   "id": "6245c995",
   "metadata": {},
   "source": [
    "# Activity 1"
   ]
  },
  {
   "cell_type": "code",
   "execution_count": 12,
   "id": "0339533b",
   "metadata": {},
   "outputs": [],
   "source": [
    "#Question 1 first method, using imread in OpenCV\n",
    "\n",
    "img = cv.imread('lena.jfif')\n",
    "img_grayscale = cv.imread('lena.jfif',0)\n",
    "\n",
    "cv.imshow('Lena',img)\n",
    "cv.imshow('Lena Grayscale',img_grayscale)\n",
    "cv.waitKey(0)\n",
    "cv.destroyAllWindows()"
   ]
  },
  {
   "cell_type": "code",
   "execution_count": 13,
   "id": "3cbb6bd4",
   "metadata": {},
   "outputs": [
    {
     "name": "stdout",
     "output_type": "stream",
     "text": [
      "(168, 300, 3)\n",
      "(168, 300, 3)\n"
     ]
    }
   ],
   "source": [
    "#Question 1 second method, using concatenate(), with axia value provided\n",
    "\n",
    "img1 = cv.imread('dog.jfif')\n",
    "img_grayscale = cv.imread('dog.jfif',0) \n",
    "\n",
    "#change gray image to 3D dimension\n",
    "img_grayscale1 = cv.cvtColor(img_grayscale,cv.COLOR_GRAY2BGR)\n",
    "\n",
    "print(img1.shape)\n",
    "print(img_grayscale1.shape)\n",
    "\n",
    "hori = np.concatenate((img1,img_grayscale1 ),axis=1)\n",
    "\n",
    "cv.imshow('Horizontal', hori)\n",
    "cv.waitKey(0)\n",
    "cv.destroyAllWindows()\n",
    "\n",
    "\n"
   ]
  },
  {
   "cell_type": "markdown",
   "id": "fb9f6b8c",
   "metadata": {},
   "source": [
    "# Activity 2"
   ]
  },
  {
   "cell_type": "code",
   "execution_count": 19,
   "id": "09866d44",
   "metadata": {},
   "outputs": [],
   "source": [
    "# Create a VideoCapture object\n",
    "cap = cv.VideoCapture('img_pexels.mp4')\n",
    "\n",
    "# the video extension\n",
    "fourcc = cv.VideoWriter_fourcc(*'XVID')\n",
    "\n",
    "#save video\n",
    "output = cv.VideoWriter('smaller_img_pexels.avi',fourcc,1,(200,500))\n",
    "\n",
    "# Check if the object has been created successfully\n",
    "if not cap.isOpened():\n",
    "    print(\"Unable to create video\")\n",
    "\n",
    "# Read until the video is completed.\n",
    "while cap.isOpened():\n",
    "    ret, frame = cap.read()\n",
    "    \n",
    "    # if frame is read then ret is True\n",
    "    if not ret:\n",
    "        print(\"Can't receive frame.\")\n",
    "        break\n",
    "        \n",
    "    b = cv.resize(frame,(200,500), interpolation = cv.INTER_LINEAR)\n",
    "   \n",
    "    #save resize image to the created file\n",
    "    output.write(b)\n",
    "    \n",
    "    cv.imshow('frame', b)\n",
    "    \n",
    "    \n",
    "    if cv.waitKey(1) & 0xFF == ord('q'):\n",
    "        break\n",
    "        \n",
    "\n",
    "\n",
    "# destroy the constructor\n",
    "cap.release()\n",
    "output.release()\n",
    "cv.destroyAllWindows()"
   ]
  },
  {
   "cell_type": "markdown",
   "id": "e23713be",
   "metadata": {},
   "source": [
    "# Activity 3"
   ]
  },
  {
   "cell_type": "code",
   "execution_count": 18,
   "id": "b52b122a",
   "metadata": {},
   "outputs": [],
   "source": [
    "# Generate noise colour image\n",
    "noise_colour = np.random.randint(0, 234, (345,345,3), dtype = np.uint8)\n",
    "\n",
    "# Generate noice grayscale image\n",
    "noise_gray = np.random.randint(0, 234, (345,345), dtype = np.uint8)\n",
    "\n",
    "# noise_gray = np.stack((noise_gray,)*3, axis=-1)\n",
    "noise_gray = cv.cvtColor(noise_gray,cv.COLOR_GRAY2BGR)\n",
    "\n",
    "\n",
    "# Combine both pictures\n",
    "noise_combine = np.concatenate((noise_colour,noise_gray), axis = 1)\n",
    "\n",
    "# Show combined image\n",
    "cv.imshow('Color noise and Gray noise',noise_combine)\n",
    "cv.waitKey(0)\n",
    "cv.destroyAllWindows()"
   ]
  },
  {
   "cell_type": "code",
   "execution_count": null,
   "id": "ea956dc8",
   "metadata": {},
   "outputs": [],
   "source": []
  }
 ],
 "metadata": {
  "kernelspec": {
   "display_name": "Python 3 (ipykernel)",
   "language": "python",
   "name": "python3"
  },
  "language_info": {
   "codemirror_mode": {
    "name": "ipython",
    "version": 3
   },
   "file_extension": ".py",
   "mimetype": "text/x-python",
   "name": "python",
   "nbconvert_exporter": "python",
   "pygments_lexer": "ipython3",
   "version": "3.10.5"
  }
 },
 "nbformat": 4,
 "nbformat_minor": 5
}
