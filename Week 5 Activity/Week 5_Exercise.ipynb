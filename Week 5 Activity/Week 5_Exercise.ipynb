{
 "cells": [
  {
   "cell_type": "code",
   "execution_count": 1,
   "id": "02f5ab1a",
   "metadata": {},
   "outputs": [],
   "source": [
    "import os\n",
    "os.chdir(\"C:\\\\Users\\\\user\\\\AppData\\\\Local\\\\Programs\\\\Python\\\\Python310\\\\Scripts\\\\image_processing_UCCC2513\")"
   ]
  },
  {
   "cell_type": "markdown",
   "id": "6c21ae61",
   "metadata": {},
   "source": [
    "# Set Up"
   ]
  },
  {
   "cell_type": "code",
   "execution_count": 2,
   "id": "4922510e",
   "metadata": {},
   "outputs": [
    {
     "data": {
      "text/plain": [
       "True"
      ]
     },
     "execution_count": 2,
     "metadata": {},
     "output_type": "execute_result"
    }
   ],
   "source": [
    "import sys\n",
    "# Python 3.7 is required\n",
    "assert sys.version_info >= (3,7)\n",
    "\n",
    "import cv2 as cv\n",
    "import numpy as np\n",
    "import random\n",
    "\n",
    "# For reproducibility,\n",
    "np.random.seed(99)\n",
    "\n",
    "# Make sure that optimization is enabled\n",
    "if not cv.useOptimized():\n",
    "    cv.setUseOptimized(True)\n",
    "\n",
    "cv.useOptimized()"
   ]
  },
  {
   "cell_type": "markdown",
   "id": "80e3e817",
   "metadata": {},
   "source": [
    "# Activity 1"
   ]
  },
  {
   "cell_type": "code",
   "execution_count": 3,
   "id": "833c7ebd",
   "metadata": {},
   "outputs": [],
   "source": [
    "#Activity 1\n",
    "\n",
    "def crop_grid(img, num_horizontal_grid, num_vertical_grid, line_color):\n",
    "    \n",
    "    img = cv.imread(img)\n",
    "    img_copy = img.copy()\n",
    "\n",
    "    height, width = img.shape[:2]\n",
    "\n",
    "    #how many num if hor grid you want\n",
    "    num_horizontal_patches = num_horizontal_grid\n",
    "    num_vertical_patches = num_vertical_grid\n",
    "\n",
    "    # M and N are basically number of pixels per patch\n",
    "    M, N = int(height/num_horizontal_patches), int(width/num_vertical_patches)\n",
    "\n",
    "    x1, y1 = 0, 0\n",
    "\n",
    "    for y in range(0, height, M):\n",
    "        for x in range(0, width, N):\n",
    "    #         if (height - y) < M or (width - x) < N:\n",
    "    #             break\n",
    "            \n",
    "            y1 = y + M    # lower right coordinate that will be used to construct rectangle\n",
    "            x1 = x + N\n",
    "        \n",
    "        # Check whether patch lower right coordinate exceeds image height and width\n",
    "            if x1 >= width and y1 >= height:\n",
    "                x1 = width - 1\n",
    "                y1 = height - 1\n",
    "                tile = img[y:height, x:width]\n",
    "            \n",
    "                #draw rectangle\n",
    "                cv.rectangle(img_copy, (x, y), (x1, y1), line_color, 1)\n",
    "                cv.imshow('tile', tile)\n",
    "            # When patch lower right y-coordinate exceeds patch height\n",
    "            elif y1 >= height:\n",
    "                y1 = height - 1\n",
    "                cv.rectangle(img_copy, (x, y), (x1, y1), line_color, 1)\n",
    "            \n",
    "            # When patch lower right x-coordinate exceeds patch width\n",
    "            elif x1 >= width:\n",
    "                x1 = width - 1\n",
    "                cv.rectangle(img_copy, (x, y), (x1, y1), line_color, 1)\n",
    "        \n",
    "            else:\n",
    "                cv.rectangle(img_copy, (x, y), (x1, y1), line_color, 1)\n",
    "\n",
    "    cv.imshow('patched image', img_copy)\n",
    "    cv.waitKey(0)\n",
    "    cv.destroyAllWindows()\n",
    "    \n",
    "  \n",
    "\n",
    "crop_grid('dog.jfif', 3, 3, (0, 100, 200))"
   ]
  },
  {
   "cell_type": "markdown",
   "id": "0af8ea3b",
   "metadata": {},
   "source": [
    "# Activity 2"
   ]
  },
  {
   "cell_type": "code",
   "execution_count": 4,
   "id": "bbee0d45",
   "metadata": {},
   "outputs": [],
   "source": [
    "img1 = cv.imread('lena.jfif')\n",
    "img2 = cv.imread('coins.jfif')\n",
    "\n",
    "\n",
    "# Resize img2\n",
    "new_shape= img1.shape[:2]\n",
    "img2 = cv.resize(img2, new_shape)\n",
    "\n",
    "# array of values of alpha\n",
    "alpha = np.arange(0, 1.5, 0.2)\n",
    "\n",
    "for i in (alpha):\n",
    "\n",
    "    dst = cv.addWeighted(img1, i, img2, 1-i, 0)\n",
    "    cv.imshow('blending_image', dst)\n",
    "    cv.waitKey(0)\n",
    "    cv.destroyAllWindows()"
   ]
  },
  {
   "cell_type": "markdown",
   "id": "ab6485a8",
   "metadata": {},
   "source": [
    "# Activity 3"
   ]
  },
  {
   "cell_type": "code",
   "execution_count": 5,
   "id": "63a755c4",
   "metadata": {},
   "outputs": [],
   "source": [
    "# Use external library imutils\n",
    "\n",
    "import imutils\n",
    "\n",
    "img = cv.imread('lena.jfif')\n",
    "\n",
    "rotated_img = imutils.rotate_bound(img,-45)\n",
    "cv.imshow('rotate', rotated_img)\n",
    "cv.waitKey(0)\n",
    "cv.destroyAllWindows()\n"
   ]
  },
  {
   "cell_type": "markdown",
   "id": "8dd79a30",
   "metadata": {},
   "source": [
    "# Activity 4"
   ]
  },
  {
   "cell_type": "code",
   "execution_count": 7,
   "id": "f70e760b",
   "metadata": {},
   "outputs": [],
   "source": [
    "img1=cv.imread(\"flower.jfif\")\n",
    "img2=cv.imread(\"native-bee.png\")\n",
    "\n",
    "# identify a roi\n",
    "\n",
    "rows,cols,channels = img1.shape\n",
    "roi = img2[0:rows, 0:cols]\n",
    "\n",
    "# create a threshold \n",
    "img1_gray = cv.cvtColor(img1,cv.COLOR_BGR2GRAY)\n",
    "\n",
    "\n",
    "ret, mask = cv.threshold(img1_gray, 75, 255, cv.THRESH_BINARY_INV)\n",
    "mask_inv = cv.bitwise_not(mask) \n",
    "\n",
    "# Take the area of flower in ROI\n",
    "img2_fb = cv.bitwise_and(roi,roi,mask=mask)\n",
    "\n",
    "\n",
    "# Add flower shape from flower \n",
    "img1_fb = cv.bitwise_and(img1,img1,mask=mask_inv)\n",
    "\n",
    "# Add flower to bee Roi\n",
    "dst = cv.add(img2_fb,img1_fb) \n",
    "\n",
    "# Put roi into img2\n",
    "img2[0:rows, 0:cols ] = dst\n",
    "\n",
    "\n",
    "cv.imshow('bee_flower', img2)\n",
    "cv.waitKey(0)\n",
    "cv.destroyAllWindows()"
   ]
  },
  {
   "cell_type": "code",
   "execution_count": null,
   "id": "5d88000a",
   "metadata": {},
   "outputs": [],
   "source": []
  }
 ],
 "metadata": {
  "kernelspec": {
   "display_name": "Python 3 (ipykernel)",
   "language": "python",
   "name": "python3"
  },
  "language_info": {
   "codemirror_mode": {
    "name": "ipython",
    "version": 3
   },
   "file_extension": ".py",
   "mimetype": "text/x-python",
   "name": "python",
   "nbconvert_exporter": "python",
   "pygments_lexer": "ipython3",
   "version": "3.10.5"
  }
 },
 "nbformat": 4,
 "nbformat_minor": 5
}
